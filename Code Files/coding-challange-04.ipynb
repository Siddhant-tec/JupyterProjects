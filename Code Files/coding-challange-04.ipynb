{
 "cells": [
  {
   "cell_type": "markdown",
   "metadata": {
    "pycharm": {
     "name": "#%% md\n"
    }
   },
   "source": [
    "# Coding Challange - 04"
   ]
  },
  {
   "cell_type": "markdown",
   "metadata": {
    "pycharm": {
     "name": "#%% md\n"
    }
   },
   "source": [
    "### Question 1:\n",
    "\n",
    "Write a python class Pet that is initialized with the name and species of the pet. It contains an instance method to display the info on the screen. Define two other classes Dog and Cat. Call the instance method of Pet class using the Dog and Cat objects.\n",
    "\n",
    "#### Expected Output:\n",
    "\n",
    "Name: Kitty\n",
    "<br>Species: Persian Cat\n",
    "\n",
    "Name: Bruno\n",
    "<br>Species: German Shepherd"
   ]
  },
  {
   "cell_type": "code",
   "execution_count": 28,
   "metadata": {
    "pycharm": {
     "name": "#%%\n"
    }
   },
   "outputs": [
    {
     "name": "stdout",
     "output_type": "stream",
     "text": [
      "Name: Don\n",
      "Species: German Shephard\n",
      "Name: Sir Lancelord\n",
      "Species: Persian Cat\n"
     ]
    }
   ],
   "source": [
    "import math\n",
    "\n",
    "\n",
    "class Pet:\n",
    "    def __init__(self, name, species):\n",
    "        self.name = name\n",
    "        self.species = species\n",
    "\n",
    "    def display(self):\n",
    "        print(\"Name:\", self.name)\n",
    "        print(\"Species:\",self.species)\n",
    "\n",
    "pet1 = Pet(\"Don\", \"German Shephard\")\n",
    "pet1.display()\n",
    "pet2 = Pet(\"Sir Lancelord\", \"Persian Cat\")\n",
    "pet2.display()"
   ]
  },
  {
   "cell_type": "markdown",
   "metadata": {
    "pycharm": {
     "name": "#%% md\n"
    }
   },
   "source": [
    "### Question 2:\n",
    "\n",
    "Write a python function pattern to print a pattern using '0' such that its base and height contain an equal number of '0.'\n",
    "\n",
    "#### Sample Input:\n",
    "\n",
    "5\n",
    "\n",
    "#### Expected Output:\n",
    "\n",
    "   0\n",
    "   <br>00\n",
    "  <br>000\n",
    " <br>0000\n",
    "<br>00000"
   ]
  },
  {
   "cell_type": "code",
   "execution_count": 25,
   "metadata": {
    "pycharm": {
     "name": "#%%\n"
    }
   },
   "outputs": [
    {
     "name": "stdout",
     "output_type": "stream",
     "text": [
      "\n",
      "0\n",
      "00\n",
      "000\n",
      "0000\n",
      "00000\n"
     ]
    }
   ],
   "source": [
    "def pattern(x):\n",
    "    for i in range(x + 1):\n",
    "        print(\"0\" * i)\n",
    "pattern(5)"
   ]
  },
  {
   "cell_type": "markdown",
   "metadata": {
    "pycharm": {
     "name": "#%% md\n"
    }
   },
   "source": [
    "### Question 3:\n",
    "\n",
    "Create a class with two methods, the first one to get the input string from the user, and the second one print the odd indexed letters from the input string.\n",
    "\n",
    "#### Expected Output:\n",
    "\n",
    "Enter a string: Learning Journal\n",
    "<br>erigJunl"
   ]
  },
  {
   "cell_type": "code",
   "execution_count": 10,
   "metadata": {
    "pycharm": {
     "name": "#%%\n"
    }
   },
   "outputs": [
    {
     "name": "stdout",
     "output_type": "stream",
     "text": [
      "erigJunl\n",
      "erigJunl\n"
     ]
    }
   ],
   "source": [
    "class odd_placed:\n",
    "    def get_string(self):\n",
    "        self.sent = str(input())\n",
    "    def printOdd(self):\n",
    "        ans = []\n",
    "        for i in range(len(self.sent)):\n",
    "            if i%2 != 0:\n",
    "                ans.append(self.sent[i])\n",
    "        print(\"\".join(ans))\n",
    "        print(self.sent[1::2])\n",
    "\n",
    "odd = odd_placed()\n",
    "odd.get_string()\n",
    "odd.printOdd()\n",
    "\n",
    "\n"
   ]
  },
  {
   "cell_type": "markdown",
   "metadata": {
    "pycharm": {
     "name": "#%% md\n"
    }
   },
   "source": [
    "### Question 4:\n",
    "\n",
    "Write a lambda function to find the palindromes from the list given below.\n",
    "\n",
    "words_list = [\"refer\", \"python\", \"level\", \"join\", \"notebook\", \"dad\"]\n",
    "\n",
    "#### Expected Output:\n",
    "\n",
    "Palindromes:  ['refer', 'level', 'dad']"
   ]
  },
  {
   "cell_type": "code",
   "execution_count": 26,
   "metadata": {
    "pycharm": {
     "name": "#%%\n"
    }
   },
   "outputs": [
    {
     "name": "stdout",
     "output_type": "stream",
     "text": [
      "['refer', 'level', 'dad']\n"
     ]
    }
   ],
   "source": [
    "words_list = [\"refer\", \"python\", \"level\", \"join\", \"notebook\", \"dad\"]\n",
    "ans = []\n",
    "for word in words_list:\n",
    "    if word == word[::-1]:\n",
    "        ans.append(word)\n",
    "print(ans)"
   ]
  },
  {
   "cell_type": "markdown",
   "metadata": {
    "pycharm": {
     "name": "#%% md\n"
    }
   },
   "source": [
    "### Question 5:\n",
    "\n",
    "Write a python class Date with an instance method get_date to print the date. Define another class, Time, which again contains an instance method get_time to print the time given below. Call both the classes using the object of Time class.\n",
    "\n",
    "Time: 10:30:00\n",
    "<br>Date: 2020-02-25\n",
    "\n",
    "#### Expected Output:\n",
    "\n",
    "10:30:00\n",
    "<br>2020-02-25"
   ]
  },
  {
   "cell_type": "code",
   "execution_count": null,
   "metadata": {
    "pycharm": {
     "name": "#%%\n"
    }
   },
   "outputs": [],
   "source": []
  },
  {
   "cell_type": "markdown",
   "metadata": {
    "pycharm": {
     "name": "#%% md\n"
    }
   },
   "source": [
    "### Question 6:\n",
    "\n",
    "Create two modules student.py and merit.py. The student.py module should contain a Student class that is initialized with name and roll number. It should also contain an instance method getMarks, which contains an argument to get the number of subjects. The getMarks function should ask the user to enter the marks of the student. The merit.py module should contain an instance method to check if the student's average marks are above 90. If it is above 90, give him/her the merit. Otherwise, print 'not eligible.' Print the message along with the student's name and roll number.\n",
    "\n",
    "#### Expected Output:\n",
    "\n",
    "Enter the name of the Student: David\n",
    "<br>Enter the roll number of the Student: 23\n",
    "<br>Enter the number of Subjects: 3\n",
    "<br>Enter marks1: 96\n",
    "<br>Enter marks2: 85\n",
    "<br>Enter marks3: 82\n",
    "<br>David with Roll No: 23, is not eligible."
   ]
  },
  {
   "cell_type": "code",
   "execution_count": null,
   "metadata": {
    "pycharm": {
     "name": "#%%\n"
    }
   },
   "outputs": [],
   "source": []
  },
  {
   "cell_type": "markdown",
   "metadata": {
    "pycharm": {
     "name": "#%% md\n"
    }
   },
   "source": [
    "### Question 7:\n",
    "\n",
    "We have a dictionary of OTT Platforms, and its index is given below. Take the subscription of all the even indexed OTT platforms from 1 to 10. Since our dictionary is not updated, we have only five platforms, so using a try-except block of code handle exceptions and print the message 'Key Out of Bound. Update the list.' However, print a message 'Take these subscriptions' for the platforms mentioned in the output.\n",
    "\n",
    "my_dict = {1 : 'HBO Max', 2 : 'Netflix', 3 : 'Prime Video', 4 : 'Hotstar + Disney', 5 : 'Hulu TV'}\n",
    "\n",
    "#### Expected Output:\n",
    "\n",
    "Netflix\n",
    "<br>Hotstar + Disney\n",
    "<br>Key Out of Bound. Update the list.\n",
    "<br>Take these subscriptions."
   ]
  },
  {
   "cell_type": "code",
   "execution_count": null,
   "metadata": {
    "pycharm": {
     "name": "#%%\n"
    }
   },
   "outputs": [],
   "source": []
  },
  {
   "cell_type": "markdown",
   "metadata": {
    "pycharm": {
     "name": "#%% md\n"
    }
   },
   "source": [
    "### Question 8:\n",
    "\n",
    "Write a python function to add the digits of a positive integer repeatedly until you get the result as a single digit.\n",
    "\n",
    "#### Expected Output:\n",
    "\n",
    "Enter a number:98\n",
    "<br>8"
   ]
  },
  {
   "cell_type": "code",
   "execution_count": null,
   "metadata": {
    "pycharm": {
     "name": "#%%\n"
    }
   },
   "outputs": [],
   "source": []
  },
  {
   "cell_type": "markdown",
   "metadata": {
    "pycharm": {
     "name": "#%% md\n"
    }
   },
   "source": [
    "### Question 9:\n",
    "\n",
    "Write a python program to print the factorial of a number.\n",
    "\n",
    "#### Expected Output:\n",
    "\n",
    "Enter a number: 5\n",
    "<br>120"
   ]
  },
  {
   "cell_type": "code",
   "execution_count": 32,
   "metadata": {
    "pycharm": {
     "name": "#%%\n"
    }
   },
   "outputs": [
    {
     "data": {
      "text/plain": "120"
     },
     "execution_count": 32,
     "metadata": {},
     "output_type": "execute_result"
    }
   ],
   "source": [
    "import math\n",
    "math.factorial(5)"
   ]
  },
  {
   "cell_type": "markdown",
   "metadata": {
    "pycharm": {
     "name": "#%% md\n"
    }
   },
   "source": [
    "### Question 10:\n",
    "\n",
    "Write a python function to print the longest string between the two strings given below.\n",
    "\n",
    "first_str = 'Learning'\n",
    "<br>second_str = 'Journal'\n",
    "\n",
    "#### Expected Output:\n",
    "\n",
    "Learning"
   ]
  },
  {
   "cell_type": "code",
   "execution_count": null,
   "metadata": {
    "pycharm": {
     "name": "#%%\n"
    }
   },
   "outputs": [],
   "source": []
  }
 ],
 "metadata": {
  "kernelspec": {
   "display_name": "Python 3",
   "language": "python",
   "name": "python3"
  },
  "language_info": {
   "codemirror_mode": {
    "name": "ipython",
    "version": 3
   },
   "file_extension": ".py",
   "mimetype": "text/x-python",
   "name": "python",
   "nbconvert_exporter": "python",
   "pygments_lexer": "ipython3",
   "version": "3.8.3"
  }
 },
 "nbformat": 4,
 "nbformat_minor": 4
}