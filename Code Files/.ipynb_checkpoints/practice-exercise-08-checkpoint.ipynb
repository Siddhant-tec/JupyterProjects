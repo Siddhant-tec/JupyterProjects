{
 "cells": [
  {
   "cell_type": "markdown",
   "metadata": {
    "pycharm": {
     "name": "#%% md\n"
    }
   },
   "source": [
    "# Practice Exercise - 08"
   ]
  },
  {
   "cell_type": "markdown",
   "metadata": {
    "pycharm": {
     "name": "#%% md\n"
    }
   },
   "source": [
    "### Question 1:\n",
    "\n",
    "Write a python class *Student*, which contains the student's name and his marks in 3 subjects given below. Define a class method to calculate and return the average percentage of the student. Finally, call the class and display all the information.\n",
    "\n",
    "name = 'Robin'\n",
    "<br>sub_1 = 85\n",
    "<br>sub_2 = 74\n",
    "<br>sub_3 = 90\n",
    "\n",
    "#### Expected Output:\n",
    "\n",
    "Robin\n",
    "<br>83.0"
   ]
  },
  {
   "cell_type": "code",
   "execution_count": 1,
   "metadata": {
    "pycharm": {
     "name": "#%%\n"
    }
   },
   "outputs": [
    {
     "name": "stdout",
     "output_type": "stream",
     "text": [
      "<bound method student.avg_marks of <__main__.student object at 0x1220b5cd0>>\n"
     ]
    }
   ],
   "source": [
    "class student:\n",
    "    name = \"Robin\"\n",
    "    sub_1 = 85\n",
    "    sub_2 = 74\n",
    "    sub_3 = 90\n",
    "    def avg_marks():\n",
    "        avg = (sub_1 + sub_2 + sub_3)/3\n",
    "        print(name)\n",
    "        print(avg)\n",
    "        \n",
    "m = student()\n",
    "print(m.avg_marks)\n"
   ]
  },
  {
   "cell_type": "markdown",
   "metadata": {
    "pycharm": {
     "name": "#%% md\n"
    }
   },
   "source": [
    "### Question 2:\n",
    "\n",
    "Create a module *calculator.py*, consisting of 4 methods performing arithmetic operations on two numbers: addition, subtraction, multiplication, and division. Now import this module in another python file *test.py* and perform the addition and division operations by calling the functions from the *calculator.py* file.\n",
    "\n",
    "#### Expected Output:\n",
    "\n",
    "Addition: 125\n",
    "<br>Division: 4.0"
   ]
  },
  {
   "cell_type": "code",
   "execution_count": null,
   "metadata": {
    "pycharm": {
     "name": "#%%\n"
    }
   },
   "outputs": [],
   "source": []
  },
  {
   "cell_type": "markdown",
   "metadata": {
    "pycharm": {
     "name": "#%% md\n"
    }
   },
   "source": [
    "### Question 3:\n",
    "\n",
    "Create a class *Student* initialized with name, roll_number, and the student's total percentage. Also, define a class attribute that provides the institution's name, and it will be the same for all the students since they are all studying under a single institution. Then create two objects of this class and display the information.\n",
    "\n",
    "#### Expected Output:\n",
    "\n",
    "Student 1: Marcus of Cambridge @ 25 has got 95%.\n",
    "<br>Student 2: Derek of Cambridge @ 12 has got 84%."
   ]
  },
  {
   "cell_type": "code",
   "execution_count": 20,
   "metadata": {
    "pycharm": {
     "name": "#%%\n"
    }
   },
   "outputs": [
    {
     "name": "stdout",
     "output_type": "stream",
     "text": [
      "Marcus of Cambridge @ 25 has got 95%\n",
      "Derek of Cambridge @ 12 has got 84%\n"
     ]
    }
   ],
   "source": [
    "class Student:\n",
    "    def __init__(self, name, roll, percentage):\n",
    "        self.name = name\n",
    "        self.roll = roll\n",
    "        self.percentage = percentage\n",
    "        self.institution = \"Cambridge\"\n",
    "    \n",
    "    def display(self):\n",
    "        print(self.name + \" of \" + self.institution + \" @ \" + str(self.roll) + \" has got \" + str(self.percentage) + \"%\" )\n",
    "\n",
    "s1 = Student(\"Marcus\", 25, 95)\n",
    "s2 = Student(\"Derek\", 12 , 84)\n",
    "s1.display()\n",
    "s2.display()"
   ]
  },
  {
   "cell_type": "markdown",
   "metadata": {
    "pycharm": {
     "name": "#%% md\n"
    }
   },
   "source": [
    "### Question 4:\n",
    "\n",
    "Write a python class *reverse_string* to reverse the words of a string.\n",
    "\n",
    "Input String: Learning Journal - Python Foundation Course\n",
    "\n",
    "#### Expected Output:\n",
    "\n",
    "Output String: Course Foundation Python - Journal Learning"
   ]
  },
  {
   "cell_type": "code",
   "execution_count": null,
   "metadata": {
    "pycharm": {
     "name": "#%%\n"
    }
   },
   "outputs": [],
   "source": []
  },
  {
   "cell_type": "markdown",
   "metadata": {
    "pycharm": {
     "name": "#%% md\n"
    }
   },
   "source": [
    "### Question 5:\n",
    "\n",
    "Create two modules *medical.py* and *report.py*. The *medical.py* file should take the details given below and calculate the BMI. The *report.py* file should display the message regarding the customer's fitness depending upon the BMI calculated from *medical.py*. Display only the message but not the BMI calculated from *medical.py*. It should only be displayed when we execute the *medical.py* file.\n",
    "\n",
    "Name: David\n",
    "<br>Weight: 83 Kgs\n",
    "<br>Height: 1.85 m\n",
    "\n",
    "BMI = Weight / (Height * Height)\n",
    "\n",
    "BMI > 25 ----> Overweight\n",
    "<br>BMI < 18.5 ----> Underweight\n",
    "<br>Otherwise ----> Normal Weight\n",
    "\n",
    "#### Expected Output:\n",
    "\n",
    "Overweight"
   ]
  },
  {
   "cell_type": "code",
   "execution_count": null,
   "metadata": {
    "pycharm": {
     "name": "#%%\n"
    }
   },
   "outputs": [],
   "source": []
  },
  {
   "cell_type": "markdown",
   "metadata": {
    "pycharm": {
     "name": "#%% md\n"
    }
   },
   "source": [
    "### Question 6:\n",
    "\n",
    "Create a class *Mensuration*, which is initialized with length, breadth, and height. Now, create another class *cuboid* that will inherit the *Mensuration* class, and the child class will contain an instance method *volume* to calculate and display the volume of a cuboid.\n",
    "\n",
    "Length = 5\n",
    "<br>Breadth = 3\n",
    "<br>Height  = 4\n",
    "\n",
    "#### Expected Output:\n",
    "\n",
    "Volume of Cuboid:  60"
   ]
  },
  {
   "cell_type": "code",
   "execution_count": 3,
   "metadata": {
    "pycharm": {
     "name": "#%%\n"
    }
   },
   "outputs": [
    {
     "name": "stdout",
     "output_type": "stream",
     "text": [
      "Volume of Cuboid: 60\n"
     ]
    }
   ],
   "source": [
    "class Mensuration:\n",
    "    def __init__(self, length, breadth, height):\n",
    "        self.length = length\n",
    "        self.height = height\n",
    "        self.breadth = breadth\n",
    "\n",
    "class Cuboid(Mensuration):\n",
    "    def volume(self):\n",
    "        volume = self.length * self.height * self.breadth\n",
    "        print(\"Volume of Cuboid: \" + str(volume))\n",
    "\n",
    "vol = Cuboid(5, 4, 3)\n",
    "vol.volume()    "
   ]
  },
  {
   "cell_type": "markdown",
   "metadata": {
    "pycharm": {
     "name": "#%% md\n"
    }
   },
   "source": [
    "### Question 7:\n",
    "\n",
    "Write a python class *Cube* that contains three methods to calculate the curved surface area, total surface area, and volume of the cube. The side of the cube is five units.\n",
    "\n",
    "#### Expected Output:\n",
    "\n",
    "Curved Surface Area:  100\n",
    "<br>Total Surface Area:  150\n",
    "<br>Volume:  125"
   ]
  },
  {
   "cell_type": "code",
   "execution_count": 16,
   "metadata": {
    "pycharm": {
     "name": "#%%\n"
    }
   },
   "outputs": [
    {
     "name": "stdout",
     "output_type": "stream",
     "text": [
      "Curved surface Area: 100\n",
      "Total Surface Area: 150\n",
      "volume: 125\n"
     ]
    }
   ],
   "source": [
    "class Cube:\n",
    "    \n",
    "    def curved_surface_area(side):\n",
    "        print(\"Curved surface Area: \" + str(4*(side*side)))\n",
    "    def total_surface_area(side):\n",
    "        print(\"Total Surface Area: \" + str(6*(side*side)))\n",
    "    def volume(side):\n",
    "        print(\"volume: \" + str(side*side*side))\n",
    "\n",
    "c = Cube\n",
    "c.curved_surface_area(5)\n",
    "c.total_surface_area(5)\n",
    "c.volume(5)"
   ]
  },
  {
   "cell_type": "markdown",
   "metadata": {
    "pycharm": {
     "name": "#%% md\n"
    }
   },
   "source": [
    "### Question 8:\n",
    "\n",
    "Create a class *Sports*, which is initialized with the number of players required to play that sport and the country in which it is the national sport. Define an instance method to print all the information. Define two other classes, '*Cricket*' and '*Basketball*' that inherits the class sports and display all the information.\n",
    "\n",
    "#### Expected Output:\n",
    "\n",
    "Cricket:  National Sport of England, and it requires 11 players from each team.\n",
    "<br>Basketball:  National Sport of Lithuania, and it requires 5 players from each team."
   ]
  },
  {
   "cell_type": "code",
   "execution_count": 25,
   "metadata": {
    "pycharm": {
     "name": "#%%\n"
    }
   },
   "outputs": [
    {
     "name": "stdout",
     "output_type": "stream",
     "text": [
      "Cricket: National Sport of England and it requires 11 players from each team.\n",
      "Baseball: National Sport of Luthiana and it requires 5 players from each team.\n"
     ]
    }
   ],
   "source": [
    "class Sports:\n",
    "    def __init__(self, num, country):\n",
    "        self.num = num\n",
    "        self.country = country\n",
    "        \n",
    "    def display(self):\n",
    "        pass\n",
    "\n",
    "class Cricket(Sports):\n",
    "    def display(self):\n",
    "        print(\"Cricket:\" + \" National Sport of \" + self.country + \" and it requires \" + str(self.num) + \" players from each team.\")\n",
    "        \n",
    "class Basketball(Sports):\n",
    "    def display(self):\n",
    "        print(\"Baseball:\" + \" National Sport of \" + self.country + \" and it requires \" + str(self.num) + \" players from each team.\")\n",
    "\n",
    "cr = Cricket(11, \"England\")\n",
    "cr.display()\n",
    "\n",
    "b = Basketball(5, \"Luthiana\")\n",
    "b.display()\n",
    "\n",
    "\n"
   ]
  },
  {
   "cell_type": "markdown",
   "metadata": {
    "pycharm": {
     "name": "#%% md\n"
    }
   },
   "source": [
    "### Question 9:\n",
    "\n",
    "Create a class *Vehicle*, which is initialized with the type of vehicle (i.e., 2-wheeler or 4-wheeler), name, and mileage. Define an instance method '*print_info*' to print all these pieces of information. Create two other classes, '*Bike*' and '*Bus*,' that inherits the *Vehicle* class. Using a class attribute display the color of both the child classes as *Red*.\n",
    "\n",
    "#### Expected Output:\n",
    "\n",
    "KTM Duke is a 2-Wheeler vehicle, and the color of the vehicle is Red.\n",
    "<br>Volkswagen Polo is a 4-Wheeler vehicle, and the color of the vehicle is Red."
   ]
  },
  {
   "cell_type": "code",
   "execution_count": 27,
   "metadata": {
    "pycharm": {
     "name": "#%%\n"
    }
   },
   "outputs": [
    {
     "name": "stdout",
     "output_type": "stream",
     "text": [
      "Volkswagen Polo is a 4-Wheeler vehicle and the color of the vehicle is red\n",
      "KTM DUke is a 2-Wheeler vehicle and the color of the vehicle is red\n"
     ]
    }
   ],
   "source": [
    "class Vehicle:\n",
    "    def __init__(self, type, name, mileage):\n",
    "        self.type = type\n",
    "        self.name = name\n",
    "        self.mileage = mileage\n",
    "        self.color = \"red\"\n",
    "    \n",
    "    def print_info(self):\n",
    "        print(self.name + \" is a \" + self.type + \" vehicle and the color of the vehicle is \" + self.color)\n",
    "        \n",
    "class Bus(Vehicle):\n",
    "    pass\n",
    "\n",
    "class Bike(Vehicle):\n",
    "    pass\n",
    "\n",
    "\n",
    "bus = Bus(\"4-Wheeler\", \"Volkswagen Polo\", 12)\n",
    "bus.print_info()\n",
    "bike = Bike(\"2-Wheeler\", \"KTM DUke\", 18)\n",
    "bike.print_info()\n",
    "    "
   ]
  },
  {
   "cell_type": "markdown",
   "metadata": {
    "pycharm": {
     "name": "#%% md\n"
    }
   },
   "source": [
    "### Question 10:\n",
    "\n",
    "Create a python class *airport_taxi*, which is initialized with a kilometer. Define an instance method that calculates the trip's fare. If the number of kilometers is greater than 50, the fare is Rs.6 per kilometer. Otherwise, the fare is Rs.per kilometer. Create another class, *uber_taxi*, which inherits the *airport_taxi* class. But the fare of uber_taxi is Rs.5.5 per kilometer irrespective of the number of kilometers. Print the fare for both the taxi if the passenger is traveling 40 km.\n",
    "\n",
    "#### Expected Output:\n",
    "\n",
    "200\n",
    "<br>220.0"
   ]
  },
  {
   "cell_type": "code",
   "execution_count": 30,
   "metadata": {
    "pycharm": {
     "name": "#%%\n"
    }
   },
   "outputs": [
    {
     "name": "stdout",
     "output_type": "stream",
     "text": [
      "200\n",
      "220.0\n"
     ]
    }
   ],
   "source": [
    "class airport_taxi:\n",
    "    def __init__(self, kilometer):\n",
    "        self.kilometer = kilometer\n",
    "    \n",
    "    def fare(self):\n",
    "        if self.kilometer > 50:\n",
    "            fare = 6*self.kilometer\n",
    "        else:\n",
    "            fare = 5*self.kilometer\n",
    "        print(fare)\n",
    "\n",
    "class uber_taxi(airport_taxi):\n",
    "    def fare(self):\n",
    "        fare = 5.5*self.kilometer\n",
    "        print(fare)\n",
    "\n",
    "air = airport_taxi(40)\n",
    "air.fare()\n",
    "uber = uber_taxi(40)\n",
    "uber.fare()"
   ]
  },
  {
   "cell_type": "code",
   "execution_count": null,
   "metadata": {},
   "outputs": [],
   "source": []
  }
 ],
 "metadata": {
  "kernelspec": {
   "display_name": "Python 3 (ipykernel)",
   "language": "python",
   "name": "python3"
  },
  "language_info": {
   "codemirror_mode": {
    "name": "ipython",
    "version": 3
   },
   "file_extension": ".py",
   "mimetype": "text/x-python",
   "name": "python",
   "nbconvert_exporter": "python",
   "pygments_lexer": "ipython3",
   "version": "3.8.9"
  }
 },
 "nbformat": 4,
 "nbformat_minor": 4
}
