{
 "cells": [
  {
   "cell_type": "markdown",
   "metadata": {
    "pycharm": {
     "name": "#%% md\n"
    }
   },
   "source": [
    "# Practice Exercise - 02"
   ]
  },
  {
   "cell_type": "markdown",
   "metadata": {
    "pycharm": {
     "name": "#%% md\n"
    }
   },
   "source": [
    "### Question 1:\n",
    "\n",
    "Print the item 'Orange' from the list of fruits given below.\n",
    "\n",
    "fruits = ['Apple', 'Grapes', 'Orange', 'Pineapple', 'Watermelon']\n",
    "\n",
    "#### Expected Output:\n",
    "\n",
    "Orange"
   ]
  },
  {
   "cell_type": "code",
   "execution_count": 1,
   "metadata": {
    "pycharm": {
     "name": "#%%\n"
    }
   },
   "outputs": [
    {
     "name": "stdout",
     "output_type": "stream",
     "text": [
      "Orange\n"
     ]
    }
   ],
   "source": [
    "fruits = [\"Apple\", \"Grapes\", \"Orange\", \"Pineapple\", \"Watermelon\"]\n",
    "print(fruits[2])"
   ]
  },
  {
   "cell_type": "markdown",
   "metadata": {
    "pycharm": {
     "name": "#%% md\n"
    }
   },
   "source": [
    "### Question 2:\n",
    "\n",
    "We have a list of fruits and a string given below. Since the string contains fruit, add that string to the given list and print that new list.\n",
    "\n",
    "fruit_list = ['Apple', 'Grapes', 'Orange', 'Pineapple', 'Watermelon']\n",
    "<br>fruit_string = 'Mango'\n",
    "\n",
    "#### Expected Output:\n",
    "\n",
    "['Apple', 'Grapes', 'Orange', 'Pineapple', 'Watermelon', 'Mango']"
   ]
  },
  {
   "cell_type": "code",
   "execution_count": null,
   "metadata": {
    "pycharm": {
     "name": "#%%\n"
    }
   },
   "outputs": [],
   "source": [
    "fruit_list = ['Apple', 'Grapes', 'Orange', 'Pineapple', 'Watermelon'] \n",
    "fruit_string = 'Mango'\n",
    "fruit_list.append(fruit_string)\n",
    "print(fruit_list)"
   ]
  },
  {
   "cell_type": "markdown",
   "metadata": {
    "pycharm": {
     "name": "#%% md\n"
    }
   },
   "source": [
    "### Question 3:\n",
    "\n",
    "There is a list given below which contains the name of cities. Repeat this list of cities three times, and print the old list and the new list.\n",
    "\n",
    "cityList = ['London', 'New York', 'Delhi']\n",
    "\n",
    "#### Expected Output:\n",
    "\n",
    "Old City List: ['London', 'New York', 'Delhi']\n",
    "<br>New City List: ['London', 'New York', 'Delhi', 'London', 'New York', 'Delhi', 'London', 'New York', 'Delhi']"
   ]
  },
  {
   "cell_type": "code",
   "execution_count": null,
   "metadata": {
    "pycharm": {
     "name": "#%%\n"
    }
   },
   "outputs": [],
   "source": [
    "cityList = ['London', 'New York', 'Delhi']\n",
    "new = cityList*3\n",
    "print(new)"
   ]
  },
  {
   "cell_type": "markdown",
   "metadata": {
    "pycharm": {
     "name": "#%% md\n"
    }
   },
   "source": [
    "### Question 4:\n",
    "\n",
    "Check if the city 'Delhi' is present in the list of cities given below.\n",
    "\n",
    "cityList = ['London', 'New York', 'Delhi', 'Mumbai', 'Paris']\n",
    "\n",
    "#### Expected Output:\n",
    "\n",
    "True"
   ]
  },
  {
   "cell_type": "code",
   "execution_count": null,
   "metadata": {
    "pycharm": {
     "name": "#%%\n"
    }
   },
   "outputs": [],
   "source": [
    "cityList = ['London', 'New York', 'Delhi', 'Mumbai', 'Paris']\n",
    "if \"Delhi\" in cityList:\n",
    "    print(\"True\")"
   ]
  },
  {
   "cell_type": "markdown",
   "metadata": {
    "pycharm": {
     "name": "#%% md\n"
    }
   },
   "source": [
    "### Question 5:\n",
    "\n",
    "Reverse the string given below.\n",
    "\n",
    "name = 'Learning Journal'\n",
    "\n",
    "#### Expected Output:\n",
    "\n",
    "'lanruoJ gninraeL'"
   ]
  },
  {
   "cell_type": "code",
   "execution_count": null,
   "metadata": {
    "pycharm": {
     "name": "#%%\n"
    }
   },
   "outputs": [],
   "source": [
    "name = 'Learning Journal'\n",
    "print(name[::-1])"
   ]
  },
  {
   "cell_type": "markdown",
   "metadata": {
    "pycharm": {
     "name": "#%% md\n"
    }
   },
   "source": [
    "### Question 6:\n",
    "\n",
    "There is a string object given below. Print the word 'sunny' from string 'msg.'\n",
    "\n",
    "msg = 'A bright sunny day'\n",
    "\n",
    "#### Expected Solution:\n",
    "\n",
    "'sunny'"
   ]
  },
  {
   "cell_type": "code",
   "execution_count": null,
   "metadata": {
    "pycharm": {
     "name": "#%%\n"
    }
   },
   "outputs": [],
   "source": [
    "msg = 'A bright sunny day'\n",
    "x = msg.split()\n",
    "print(x[2])"
   ]
  },
  {
   "cell_type": "markdown",
   "metadata": {
    "pycharm": {
     "name": "#%% md\n"
    }
   },
   "source": [
    "### Question 7:\n",
    "\n",
    "Check if the cities 'New York' and 'Delhi' are present in the list of cities given below.\n",
    "\n",
    "cityList = ['London', 'New York', 'Delhi', 'Mumbai', 'Paris']\n",
    "\n",
    "#### Expected Output:\n",
    "\n",
    "True\n",
    "<br>True"
   ]
  },
  {
   "cell_type": "code",
   "execution_count": null,
   "metadata": {
    "pycharm": {
     "name": "#%%\n"
    }
   },
   "outputs": [],
   "source": [
    "cityList = ['London', 'New York', 'Delhi', 'Mumbai', 'Paris']\n",
    "print(\"New York\" in cityList)\n",
    "print(\"Delhi\" in cityList)"
   ]
  },
  {
   "cell_type": "markdown",
   "metadata": {
    "pycharm": {
     "name": "#%% md\n"
    }
   },
   "source": [
    "### Question 8:\n",
    "\n",
    "Using the slicing operation, remove the whitespaces between the letters and print the string once again.\n",
    "\n",
    "name = 'P y t h o n'\n",
    "\n",
    "#### Expected Output:\n",
    "\n",
    "'Python'"
   ]
  },
  {
   "cell_type": "code",
   "execution_count": null,
   "metadata": {
    "pycharm": {
     "name": "#%%\n"
    }
   },
   "outputs": [],
   "source": [
    "name = 'P y t h o n'\n",
    "name.replace(\" \", \"\")"
   ]
  },
  {
   "cell_type": "markdown",
   "metadata": {
    "pycharm": {
     "name": "#%% md\n"
    }
   },
   "source": [
    "### Question 9:\n",
    "\n",
    "Print the index of the letter 'h' from the string given below.\n",
    "\n",
    "name = 'Python'\n",
    "\n",
    "#### Expected Output:\n",
    "\n",
    "3"
   ]
  },
  {
   "cell_type": "code",
   "execution_count": 35,
   "metadata": {
    "pycharm": {
     "name": "#%%\n"
    }
   },
   "outputs": [
    {
     "data": {
      "text/plain": [
       "3"
      ]
     },
     "execution_count": 35,
     "metadata": {},
     "output_type": "execute_result"
    }
   ],
   "source": [
    "name = 'Python'\n",
    "name.index(\"h\")"
   ]
  },
  {
   "cell_type": "markdown",
   "metadata": {
    "pycharm": {
     "name": "#%% md\n"
    }
   },
   "source": [
    "### Question 10:\n",
    "\n",
    "Print the odd indexed elements from the list of colors given below.\n",
    "\n",
    "myList = ['Red', 'Blue', 'Orange', 'White', 'Black', 'Yellow']\n",
    "\n",
    "#### Expected Output:\n",
    "\n",
    "['Blue', 'White', 'Yellow']"
   ]
  },
  {
   "cell_type": "code",
   "execution_count": 42,
   "metadata": {
    "pycharm": {
     "name": "#%%\n"
    }
   },
   "outputs": [
    {
     "data": {
      "text/plain": [
       "['Blue', 'White', 'Yellow']"
      ]
     },
     "execution_count": 42,
     "metadata": {},
     "output_type": "execute_result"
    }
   ],
   "source": [
    "myList = ['Red', 'Blue', 'Orange', 'White', 'Black', 'Yellow']\n",
    "myList[1:len(myList):2]"
   ]
  },
  {
   "cell_type": "code",
   "execution_count": null,
   "metadata": {},
   "outputs": [],
   "source": []
  }
 ],
 "metadata": {
  "kernelspec": {
   "display_name": "Python 3 (ipykernel)",
   "language": "python",
   "name": "python3"
  },
  "language_info": {
   "codemirror_mode": {
    "name": "ipython",
    "version": 3
   },
   "file_extension": ".py",
   "mimetype": "text/x-python",
   "name": "python",
   "nbconvert_exporter": "python",
   "pygments_lexer": "ipython3",
   "version": "3.8.9"
  }
 },
 "nbformat": 4,
 "nbformat_minor": 4
}
