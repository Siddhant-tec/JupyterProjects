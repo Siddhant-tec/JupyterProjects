{
 "cells": [
  {
   "cell_type": "markdown",
   "metadata": {
    "pycharm": {
     "name": "#%% md\n"
    }
   },
   "source": [
    "# Coding Challange - 05"
   ]
  },
  {
   "cell_type": "markdown",
   "metadata": {
    "pycharm": {
     "name": "#%% md\n"
    }
   },
   "source": [
    "### Question 1:\n",
    "\n",
    "Define a python function to print the longest word in the list of technologies given below.\n",
    "\n",
    "myList = ['Java', 'Data Science', 'Python', 'Machine Learning', 'Artificial Intelligence']\n",
    "\n",
    "#### Expected Output:\n",
    "\n",
    "Artificial Intelligence"
   ]
  },
  {
   "cell_type": "code",
   "execution_count": 7,
   "metadata": {
    "pycharm": {
     "name": "#%%\n"
    }
   },
   "outputs": [
    {
     "data": {
      "text/plain": "'Artificial Intelligence'"
     },
     "execution_count": 7,
     "metadata": {},
     "output_type": "execute_result"
    }
   ],
   "source": [
    "import sys\n",
    "\n",
    "myList = ['Java', 'Data Science', 'Python', 'Machine Learning', 'Artificial Intelligence']\n",
    "myList[max(0, len(myList)) - 1]"
   ]
  },
  {
   "cell_type": "markdown",
   "metadata": {
    "pycharm": {
     "name": "#%% md\n"
    }
   },
   "source": [
    "### Question 2:\n",
    "\n",
    "Create a class Shape that is initialized with length. Then, define an instance method getArea that calculates the area of the Shape. Create another class, Square, which inherits the Shape class and overrides the getArea method to return the area of Square.\n",
    "\n",
    "#### Sample Input:\n",
    "\n",
    "Length of sqaure = 8\n",
    "\n",
    "#### Expected Output:\n",
    "\n",
    "64"
   ]
  },
  {
   "cell_type": "code",
   "execution_count": 16,
   "metadata": {
    "pycharm": {
     "name": "#%%\n"
    }
   },
   "outputs": [
    {
     "name": "stdout",
     "output_type": "stream",
     "text": [
      "25\n"
     ]
    }
   ],
   "source": [
    "class Shape:\n",
    "    def __init__(self, length):\n",
    "        self.length = length\n",
    "\n",
    "    def getArea(self):\n",
    "        pass\n",
    "\n",
    "class Square(Shape):\n",
    "    def getArea(self):\n",
    "        print(self.length * self.length)\n",
    "\n",
    "sq = Square(5)\n",
    "sq.getArea()"
   ]
  },
  {
   "cell_type": "markdown",
   "metadata": {
    "pycharm": {
     "name": "#%% md\n"
    }
   },
   "source": [
    "### Question 3:\n",
    "\n",
    "Write a python function to print the next palindrome after the specified integer. (Hint: Use the sys module to get the largest integer for the range.)\n",
    "\n",
    "#### Sample Input:\n",
    "\n",
    "num = 90\n",
    "\n",
    "#### Expected Output:\n",
    "\n",
    "99"
   ]
  },
  {
   "cell_type": "code",
   "execution_count": 19,
   "metadata": {
    "pycharm": {
     "name": "#%%\n"
    }
   },
   "outputs": [
    {
     "name": "stdout",
     "output_type": "stream",
     "text": [
      "99\n"
     ]
    }
   ],
   "source": [
    "num = int(input())\n",
    "for number in range(num, sys.maxsize):\n",
    "    if str(number) == str(number)[::-1]:\n",
    "        print(number)\n",
    "        break\n"
   ]
  },
  {
   "cell_type": "markdown",
   "metadata": {
    "pycharm": {
     "name": "#%% md\n"
    }
   },
   "source": [
    "### Question 4:\n",
    "\n",
    "Write a python function to check if the list of numbers given below is in Arithmetic Progression or not.\n",
    "\n",
    "myList = [5, 7, 9, 11]\n",
    "\n",
    "#### Expected Output:\n",
    "\n",
    "True"
   ]
  },
  {
   "cell_type": "code",
   "execution_count": 16,
   "metadata": {
    "pycharm": {
     "name": "#%%\n"
    }
   },
   "outputs": [
    {
     "name": "stdout",
     "output_type": "stream",
     "text": [
      "True\n"
     ]
    }
   ],
   "source": [
    "myList = [5, 7, 9, 11]\n",
    "d = myList[1] - myList[0]\n",
    "flag = bool\n",
    "for i in range(len(myList) - 1):\n",
    "    if myList[i + 1] - myList[i] == d:\n",
    "        flag = 1\n",
    "    else:\n",
    "        flag = 0\n",
    "\n",
    "print(bool(flag))\n",
    "\n"
   ]
  },
  {
   "cell_type": "markdown",
   "metadata": {
    "pycharm": {
     "name": "#%% md\n"
    }
   },
   "source": [
    "### Question 5:\n",
    "\n",
    "Write a python class vowelsCheck to find the number of vowels in a string. Take the string input from the user.\n",
    "\n",
    "#### Expected Output:\n",
    "\n",
    "Enter a string: Artificial Intelligence is the future\n",
    "<br>Number of vowels:  13"
   ]
  },
  {
   "cell_type": "code",
   "execution_count": 5,
   "metadata": {
    "pycharm": {
     "name": "#%%\n"
    }
   },
   "outputs": [
    {
     "name": "stdout",
     "output_type": "stream",
     "text": [
      "13\n"
     ]
    }
   ],
   "source": [
    "class vowelsCheck:\n",
    "    def __init__(self, sentence):\n",
    "        self.sentence = sentence\n",
    "        self.count = 0\n",
    "\n",
    "    def check(self):\n",
    "        vowels = [\"a\", \"e\", \"i\", \"o\", \"u\"]\n",
    "        #count = 0\n",
    "        for letter in self.sentence:\n",
    "            if letter in vowels:\n",
    "                self.count += 1\n",
    "        print(self.count)\n",
    "\n",
    "sent = str(input())\n",
    "vc = vowelsCheck(sent)\n",
    "vc.check()\n"
   ]
  },
  {
   "cell_type": "markdown",
   "metadata": {
    "pycharm": {
     "name": "#%% md\n"
    }
   },
   "source": [
    "h### Question 6:\n",
    "\n",
    "Write a python exception handling program to check if the date of February entered is a multiple of 7 or not. Print the message 'Incorrect Date' if the date exceeds 28. For all other exceptions, print the message 'Invalid Data.' (Hint: User-defined exception)\n",
    "\n",
    "#### Sample Input - 1:\n",
    "\n",
    "Enter the date of February: 30\n",
    "\n",
    "#### Expected Output:\n",
    "\n",
    "Incorrect Date.\n",
    "\n",
    "#### Sample Input - 2:\n",
    "\n",
    "Enter the date of February: aa\n",
    "\n",
    "#### Expected Output:\n",
    "\n",
    "Invalid Data.\n",
    "\n",
    "#### Sample Input - 3:\n",
    "\n",
    "Enter the date of February: 21\n",
    "\n",
    "#### Expected Output:\n",
    "\n",
    "'Multiple of 7.'"
   ]
  },
  {
   "cell_type": "code",
   "execution_count": 12,
   "metadata": {
    "pycharm": {
     "name": "#%%\n"
    }
   },
   "outputs": [
    {
     "name": "stdout",
     "output_type": "stream",
     "text": [
      "Correct 23\n"
     ]
    }
   ],
   "source": [
    "try:\n",
    "    date = int(input())\n",
    "    if 0<date<30:\n",
    "        print(\"Correct\", date)\n",
    "        if date % 7 == 0:\n",
    "            print(\"Multiple of 7\")\n",
    "    else:\n",
    "        raise Exception\n",
    "except ValueError:\n",
    "    print(\"Invalid Data\")\n",
    "except Exception as e:\n",
    "    print(\"Incorrect Date\")"
   ]
  },
  {
   "cell_type": "markdown",
   "metadata": {
    "pycharm": {
     "name": "#%% md\n"
    }
   },
   "source": [
    "### Question 7:\n",
    "\n",
    "Write a python function to find the maximum of three numbers from the list given below, without using the built-in function max().\n",
    "\n",
    "numList = [8, 12, 7]\n",
    "\n",
    "#### Expected Output:\n",
    "\n",
    "12"
   ]
  },
  {
   "cell_type": "code",
   "execution_count": 21,
   "metadata": {
    "pycharm": {
     "name": "#%%\n"
    }
   },
   "outputs": [
    {
     "name": "stdout",
     "output_type": "stream",
     "text": [
      "12\n"
     ]
    }
   ],
   "source": [
    "numList = [8, 12, 7]\n",
    "n = max(numList)\n",
    "print(n)"
   ]
  },
  {
   "cell_type": "markdown",
   "metadata": {
    "pycharm": {
     "name": "#%% md\n"
    }
   },
   "source": [
    "### Question 8:\n",
    "\n",
    "Create two modules volume1.py and volume2.py. The volume1.py module contains a class volume_1 that is initialized with length, breadth, and height. It is created to calculate the volumes of cube and cuboid. So, define two instance methods cube() and cuboid() in the class volume_1. The volume2.py module contains a class volume_2 that is initialized with radius and height. It is created to calculate the volumes of spheres, cones, and cylinders. So, define three instance methods sphere(), cone() and cylinder() in the class volume_2. Finally, create a python file result.py to call the methods of both these classes. Remember that the modules volume1.py and volume2.py can also call its methods separately in their respective modules.\n",
    "\n",
    "#### Sample Input:\n",
    "\n",
    "For volume1.py:\n",
    "\n",
    "Length = 3\n",
    "<br>Breadth = 4\n",
    "<br>Height = 5\n",
    "\n",
    "For volume2.py:\n",
    "\n",
    "Radius = 6\n",
    "<br>Height = 7\n",
    "\n",
    "Check for cuboid from volume1.py and sphere from volume2.py.\n",
    "\n",
    "#### Expected Output:\n",
    "\n",
    "60\n",
    "904.3199999999999"
   ]
  },
  {
   "cell_type": "code",
   "execution_count": null,
   "metadata": {
    "pycharm": {
     "name": "#%%\n"
    }
   },
   "outputs": [],
   "source": []
  },
  {
   "cell_type": "markdown",
   "metadata": {
    "pycharm": {
     "name": "#%% md\n"
    }
   },
   "source": [
    "### Question 9:\n",
    "\n",
    "We have a bag of 9 balls, which has a discrete number from 1 to 9 marked on each of them. But when we take out all the balls from the bag, few of them are missing. Given below is the list of balls that are present.\n",
    "\n",
    "myList = [1, 2, 3, 5, 6, 7, 9]\n",
    "\n",
    "Write a python function to find the missing balls.\n",
    "\n",
    "#### Expected Output:\n",
    "\n",
    "[4, 8]"
   ]
  },
  {
   "cell_type": "code",
   "execution_count": 24,
   "metadata": {
    "pycharm": {
     "name": "#%%\n"
    }
   },
   "outputs": [
    {
     "name": "stdout",
     "output_type": "stream",
     "text": [
      "{4, 8}\n"
     ]
    }
   ],
   "source": [
    "myList = [1, 2, 3, 5, 6, 7, 9]\n",
    "first = myList[0]\n",
    "last = myList[-1]\n",
    "actualBalls = [x for x in range(first, last+1)]\n",
    "balls = set(myList)\n",
    "print(set(actualBalls) ^ set(myList))\n",
    "\n"
   ]
  },
  {
   "cell_type": "markdown",
   "metadata": {
    "pycharm": {
     "name": "#%% md\n"
    }
   },
   "source": [
    "### Question 10:\n",
    "\n",
    "Create a class Fan which is initialized with its brand. The class contains two instance methods for switching on the fan with speed five and switching off the fan with speed 0. Create another method to show the current status of the fan.\n",
    "\n",
    "#### Sample Input:\n",
    "\n",
    "Brand = MONTE CARLO\n",
    "<br>Scene - 1: Switch-on the fan and show the status\n",
    "<br>Scene - 2: Switch-off the fan and show the status\n",
    "\n",
    "#### Expected Output:\n",
    "\n",
    "The fan manufactured by MONTE CARLO is currently Running with a speed of 5\n",
    "<br>The fan manufactured by MONTE CARLO is currently Idle with a speed of 0"
   ]
  },
  {
   "cell_type": "code",
   "execution_count": 28,
   "outputs": [
    {
     "name": "stdout",
     "output_type": "stream",
     "text": [
      "The fan is manufactured by Havells and is running at speed of 5\n"
     ]
    }
   ],
   "source": [
    "class Fan:\n",
    "    def __init__(self, brand):\n",
    "        self.brand = brand\n",
    "        self.speed = 0\n",
    "    def switch_on(self):\n",
    "        self.speed = 5\n",
    "    def switch_off(self):\n",
    "        self.speed = 0\n",
    "    def display_state(self):\n",
    "        print(\"The fan is manufactured by\", self.brand, \"and is running at speed of\", self.speed)\n",
    "\n",
    "f = Fan(\"Havells\")\n",
    "f.switch_on()\n",
    "f.display_state()"
   ],
   "metadata": {
    "collapsed": false,
    "pycharm": {
     "name": "#%%\n"
    }
   }
  },
  {
   "cell_type": "code",
   "execution_count": 4,
   "outputs": [
    {
     "name": "stdout",
     "output_type": "stream",
     "text": [
      "6\n"
     ]
    }
   ],
   "source": [
    "num = int(input())\n",
    "x = 1\n",
    "if num == 1:\n",
    "    print(0)\n",
    "else:\n",
    "    while num > 0:\n",
    "        x *= num\n",
    "        num -= 1\n",
    "    print(x)"
   ],
   "metadata": {
    "collapsed": false,
    "pycharm": {
     "name": "#%%\n"
    }
   }
  },
  {
   "cell_type": "code",
   "execution_count": 8,
   "outputs": [],
   "source": [],
   "metadata": {
    "collapsed": false,
    "pycharm": {
     "name": "#%%\n"
    }
   }
  },
  {
   "cell_type": "code",
   "execution_count": null,
   "outputs": [],
   "source": [
    "5"
   ],
   "metadata": {
    "collapsed": false,
    "pycharm": {
     "name": "#%%\n"
    }
   }
  }
 ],
 "metadata": {
  "kernelspec": {
   "display_name": "Python 3",
   "language": "python",
   "name": "python3"
  },
  "language_info": {
   "codemirror_mode": {
    "name": "ipython",
    "version": 3
   },
   "file_extension": ".py",
   "mimetype": "text/x-python",
   "name": "python",
   "nbconvert_exporter": "python",
   "pygments_lexer": "ipython3",
   "version": "3.8.3"
  }
 },
 "nbformat": 4,
 "nbformat_minor": 4
}