{
 "cells": [
  {
   "cell_type": "code",
   "execution_count": 1,
   "metadata": {
    "pycharm": {
     "name": "#%%\n"
    }
   },
   "outputs": [
    {
     "name": "stdout",
     "output_type": "stream",
     "text": [
      "Hello World!\n"
     ]
    }
   ],
   "source": [
    "print(\"Hello World!\")"
   ]
  },
  {
   "cell_type": "code",
   "execution_count": 1,
   "metadata": {
    "pycharm": {
     "name": "#%%\n"
    }
   },
   "outputs": [
    {
     "name": "stdout",
     "output_type": "stream",
     "text": [
      "<class 'int'>\n"
     ]
    }
   ],
   "source": [
    "print(type(1))"
   ]
  },
  {
   "cell_type": "code",
   "execution_count": 16,
   "metadata": {
    "pycharm": {
     "name": "#%%\n"
    }
   },
   "outputs": [
    {
     "name": "stdout",
     "output_type": "stream",
     "text": [
      "8 not Found\n"
     ]
    }
   ],
   "source": [
    "list = [1,2,3,4,5]\n",
    "i = int(input())\n",
    "if i in list:\n",
    "    print(str(i) + \" found\" )\n",
    "else:\n",
    "    print(str(i) + \" not Found\")"
   ]
  },
  {
   "cell_type": "code",
   "execution_count": 4,
   "metadata": {
    "pycharm": {
     "name": "#%%\n"
    }
   },
   "outputs": [
    {
     "name": "stdout",
     "output_type": "stream",
     "text": [
      "sid\n",
      "[Errno 2] No such file or directory: 'sid'\n"
     ]
    }
   ],
   "source": [
    "filename = input()\n",
    "try:\n",
    "    f = open(filename)\n",
    "except IOError as e:\n",
    "    print(e)"
   ]
  },
  {
   "cell_type": "code",
   "execution_count": 7,
   "metadata": {
    "pycharm": {
     "name": "#%%\n"
    }
   },
   "outputs": [
    {
     "name": "stdout",
     "output_type": "stream",
     "text": [
      "84\n",
      "\n",
      "20\n",
      "\n"
     ]
    }
   ],
   "source": [
    "file = open(\"untitled.txt\")\n",
    "nums = []\n",
    "for num in file:\n",
    "    nums.append(num)\n",
    "print(max(nums))\n",
    "print(min(nums))"
   ]
  },
  {
   "cell_type": "code",
   "execution_count": 1,
   "metadata": {
    "pycharm": {
     "name": "#%%\n"
    }
   },
   "outputs": [
    {
     "name": "stdout",
     "output_type": "stream",
     "text": [
      "Python:2\n",
      "is:2\n",
      "a:3\n",
      "widely:1\n",
      "used:1\n",
      "high-level,:1\n",
      "general-purpose,:1\n",
      "interpreted,:1\n",
      "dynamic:2\n",
      "programming:3\n",
      "language.:1\n",
      "Its:1\n",
      "design:1\n",
      "philosophy:1\n",
      "emphasizes:1\n",
      "code:2\n",
      "readability,:1\n",
      "and:6\n",
      "its:1\n",
      "syntax:1\n",
      "allows:1\n",
      "programmers:1\n",
      "to:1\n",
      "express:1\n",
      "concepts:1\n",
      "in:2\n",
      "fewer:1\n",
      "lines:1\n",
      "of:1\n",
      "than:1\n",
      "possible:1\n",
      "languages:1\n",
      "such:1\n",
      "as:1\n",
      "C++:1\n",
      "or:2\n",
      "Java.:1\n",
      "supports:1\n",
      "multiple:1\n",
      "paradigms,:1\n",
      "including:1\n",
      "object-oriented,:1\n",
      "imperative:1\n",
      "functional:1\n",
      "procedural:1\n",
      "styles.It:1\n",
      "features:1\n",
      "type:1\n",
      "system:1\n",
      "automatic:1\n",
      "memory:1\n",
      "management:1\n",
      "has:1\n",
      "large:1\n",
      "comprehensive:1\n",
      "standard:1\n",
      "library.:1\n",
      "The:1\n",
      "best:1\n",
      "way:1\n",
      "we:1\n",
      "learn:1\n",
      "anything:1\n",
      "by:1\n",
      "practice:1\n",
      "exercise:1\n",
      "questions.:1\n",
      "We:1\n",
      "have:1\n",
      "started:1\n",
      "this:1\n",
      "section:1\n",
      "for:1\n",
      "those:1\n",
      "who:1\n",
      "are:1\n",
      "familiar:1\n",
      "with:1\n",
      "Python.:1\n",
      "\n",
      "C++:1\n",
      "Its:1\n",
      "Java.:1\n",
      "Python.:1\n",
      "Python:2\n",
      "The:1\n",
      "We:1\n",
      "a:3\n",
      "allows:1\n",
      "and:6\n",
      "anything:1\n",
      "are:1\n",
      "as:1\n",
      "automatic:1\n",
      "best:1\n",
      "by:1\n",
      "code:2\n",
      "comprehensive:1\n",
      "concepts:1\n",
      "design:1\n",
      "dynamic:2\n",
      "emphasizes:1\n",
      "exercise:1\n",
      "express:1\n",
      "familiar:1\n",
      "features:1\n",
      "fewer:1\n",
      "for:1\n",
      "functional:1\n",
      "general-purpose,:1\n",
      "has:1\n",
      "have:1\n",
      "high-level,:1\n",
      "imperative:1\n",
      "in:2\n",
      "including:1\n",
      "interpreted,:1\n",
      "is:2\n",
      "its:1\n",
      "language.:1\n",
      "languages:1\n",
      "large:1\n",
      "learn:1\n",
      "library.:1\n",
      "lines:1\n",
      "management:1\n",
      "memory:1\n",
      "multiple:1\n",
      "object-oriented,:1\n",
      "of:1\n",
      "or:2\n",
      "paradigms,:1\n",
      "philosophy:1\n",
      "possible:1\n",
      "practice:1\n",
      "procedural:1\n",
      "programmers:1\n",
      "programming:3\n",
      "questions.:1\n",
      "readability,:1\n",
      "section:1\n",
      "standard:1\n",
      "started:1\n",
      "styles.It:1\n",
      "such:1\n",
      "supports:1\n",
      "syntax:1\n",
      "system:1\n",
      "than:1\n",
      "this:1\n",
      "those:1\n",
      "to:1\n",
      "type:1\n",
      "used:1\n",
      "way:1\n",
      "we:1\n",
      "who:1\n",
      "widely:1\n",
      "with:1\n"
     ]
    }
   ],
   "source": [
    "file = open(\"untitled1.txt\")\n",
    "words = {}\n",
    "word = file.read().split()\n",
    "for w in word:\n",
    "    if w in words:\n",
    "        words[w] += 1\n",
    "    else:\n",
    "        words[w] = 1\n",
    "ans = []\n",
    "for i in words:\n",
    "    print(i + \":\" + str(words[i]))\n",
    "    ans.append(i + \":\" + str(words[i]))\n",
    "#print(sorted(ans))\n",
    "print()\n",
    "for v in sorted(ans):\n",
    "    print(v)\n"
   ]
  },
  {
   "cell_type": "code",
   "execution_count": 13,
   "metadata": {
    "pycharm": {
     "name": "#%%\n"
    }
   },
   "outputs": [
    {
     "name": "stdout",
     "output_type": "stream",
     "text": [
      "[[]]\n"
     ]
    }
   ],
   "source": [
    "from itertools import combinations\n",
    "\n",
    "class sol:\n",
    "    def __init__(self, lst):\n",
    "        self.lst = lst\n",
    "        self.opt = []\n",
    "\n",
    "    def subsets(self):\n",
    "        for cnt in range(len(self.lst)+1):\n",
    "            for comb in combinations(self.lst,cnt):\n",
    "                self.opt.append(list(comb))\n",
    "                return self.opt\n",
    "\n",
    "obj = sol([4,5,3])\n",
    "print(obj.subsets())\n"
   ]
  },
  {
   "cell_type": "code",
   "execution_count": 25,
   "outputs": [
    {
     "name": "stdout",
     "output_type": "stream",
     "text": [
      "[[-10, 2, 8], [-13, 6, 7]]\n"
     ]
    }
   ],
   "source": [
    "class py_solution:\n",
    "    def threeSum(self, nums):\n",
    "        tempList=[]\n",
    "        for x in range(len(nums)):\n",
    "            for y in range(x+1, len(nums)):\n",
    "                for z in nums[y+1:]:\n",
    "                    if(nums[x]+nums[y]+z) == 0:\n",
    "                        tempList.append(sorted([nums[x], nums[y], z]))\n",
    "        return tempList\n",
    "\n",
    "print(py_solution().threeSum([-10, 6, 7, -13, 8, 2]))"
   ],
   "metadata": {
    "collapsed": false,
    "pycharm": {
     "name": "#%%\n"
    }
   }
  },
  {
   "cell_type": "code",
   "execution_count": 1,
   "outputs": [
    {
     "ename": "SyntaxError",
     "evalue": "invalid syntax (1793449996.py, line 17)",
     "output_type": "error",
     "traceback": [
      "\u001B[0;36m  File \u001B[0;32m\"/var/folders/qq/7kfx84jn37zcxfbhfrnj2t740000gn/T/ipykernel_24819/1793449996.py\"\u001B[0;36m, line \u001B[0;32m17\u001B[0m\n\u001B[0;31m    elif a\u001B[0m\n\u001B[0m           ^\u001B[0m\n\u001B[0;31mSyntaxError\u001B[0m\u001B[0;31m:\u001B[0m invalid syntax\n"
     ]
    }
   ],
   "source": [
    "a = int(input())\n",
    "b = int(input())\n",
    "c = int(input())\n",
    "x = 0\n",
    "y = 0\n",
    "if a < c and b < c:\n",
    "    print(-1)\n",
    "elif a <= c < b:\n",
    "    x = c - a\n",
    "    y += x\n",
    "    y += a\n",
    "    if a == c:\n",
    "        count = 2\n",
    "    else:\n",
    "        count = 3\n",
    "    print(count)\n",
    "elif a"
   ],
   "metadata": {
    "collapsed": false,
    "pycharm": {
     "name": "#%%\n"
    }
   }
  },
  {
   "cell_type": "code",
   "execution_count": 2,
   "outputs": [
    {
     "data": {
      "text/plain": "0"
     },
     "execution_count": 2,
     "metadata": {},
     "output_type": "execute_result"
    }
   ],
   "source": [
    "s1 = str(int(input()))\n",
    "s2 = str(int(input()))\n",
    "\n",
    "s1.find(s2)"
   ],
   "metadata": {
    "collapsed": false,
    "pycharm": {
     "name": "#%%\n"
    }
   }
  },
  {
   "cell_type": "code",
   "execution_count": 1,
   "outputs": [
    {
     "ename": "ValueError",
     "evalue": "invalid literal for int() with base 10: ''",
     "output_type": "error",
     "traceback": [
      "\u001B[0;31m---------------------------------------------------------------------------\u001B[0m",
      "\u001B[0;31mValueError\u001B[0m                                Traceback (most recent call last)",
      "\u001B[0;32m/var/folders/qq/7kfx84jn37zcxfbhfrnj2t740000gn/T/ipykernel_19371/2725176957.py\u001B[0m in \u001B[0;36m<module>\u001B[0;34m\u001B[0m\n\u001B[0;32m----> 1\u001B[0;31m \u001B[0mlimit\u001B[0m \u001B[0;34m=\u001B[0m \u001B[0mint\u001B[0m\u001B[0;34m(\u001B[0m\u001B[0minput\u001B[0m\u001B[0;34m(\u001B[0m\u001B[0;34m)\u001B[0m\u001B[0;34m)\u001B[0m\u001B[0;34m\u001B[0m\u001B[0;34m\u001B[0m\u001B[0m\n\u001B[0m\u001B[1;32m      2\u001B[0m \u001B[0mans\u001B[0m \u001B[0;34m=\u001B[0m \u001B[0;34m[\u001B[0m\u001B[0;36m0\u001B[0m\u001B[0;34m,\u001B[0m \u001B[0;36m1\u001B[0m\u001B[0;34m]\u001B[0m\u001B[0;34m\u001B[0m\u001B[0;34m\u001B[0m\u001B[0m\n\u001B[1;32m      3\u001B[0m \u001B[0;32mfor\u001B[0m \u001B[0mi\u001B[0m \u001B[0;32min\u001B[0m \u001B[0mrange\u001B[0m\u001B[0;34m(\u001B[0m\u001B[0mlimit\u001B[0m\u001B[0;34m)\u001B[0m\u001B[0;34m:\u001B[0m\u001B[0;34m\u001B[0m\u001B[0;34m\u001B[0m\u001B[0m\n\u001B[1;32m      4\u001B[0m     \u001B[0mans\u001B[0m\u001B[0;34m.\u001B[0m\u001B[0mappend\u001B[0m\u001B[0;34m(\u001B[0m\u001B[0mans\u001B[0m\u001B[0;34m[\u001B[0m\u001B[0mi\u001B[0m\u001B[0;34m]\u001B[0m \u001B[0;34m+\u001B[0m \u001B[0mans\u001B[0m\u001B[0;34m[\u001B[0m\u001B[0mi\u001B[0m \u001B[0;34m+\u001B[0m \u001B[0;36m1\u001B[0m\u001B[0;34m]\u001B[0m\u001B[0;34m)\u001B[0m\u001B[0;34m\u001B[0m\u001B[0;34m\u001B[0m\u001B[0m\n\u001B[1;32m      5\u001B[0m \u001B[0mprint\u001B[0m\u001B[0;34m(\u001B[0m\u001B[0mans\u001B[0m\u001B[0;34m)\u001B[0m\u001B[0;34m\u001B[0m\u001B[0;34m\u001B[0m\u001B[0m\n",
      "\u001B[0;31mValueError\u001B[0m: invalid literal for int() with base 10: ''"
     ]
    }
   ],
   "source": [
    "limit = int(input())\n",
    "ans = [0, 1]\n",
    "for i in range(limit):\n",
    "    ans.append(ans[i] + ans[i + 1])\n",
    "print(ans)\n"
   ],
   "metadata": {
    "collapsed": false,
    "pycharm": {
     "name": "#%%\n"
    }
   }
  },
  {
   "cell_type": "code",
   "execution_count": 2,
   "outputs": [
    {
     "name": "stdout",
     "output_type": "stream",
     "text": [
      "1\n"
     ]
    }
   ],
   "source": [
    "numbers = [1, 7, 9, 2, 10]\n",
    "minu = numbers[1]\n",
    "\n",
    "for num in numbers:\n",
    "    if num < minu:\n",
    "        minu = num\n",
    "print(minu)"
   ],
   "metadata": {
    "collapsed": false,
    "pycharm": {
     "name": "#%%\n"
    }
   }
  },
  {
   "cell_type": "code",
   "execution_count": 41,
   "outputs": [
    {
     "name": "stdout",
     "output_type": "stream",
     "text": [
      "0.9900000000000002\n",
      "(2.01, 3.0)\n",
      "2\n",
      "5\n"
     ]
    }
   ],
   "source": [
    "numbers2 = [0.21, 11.3, 2.01, 8.0, 10.0, 3.0, 15.2]\n",
    "numbers = sorted(numbers2)\n",
    "mini_dif = numbers[1] - numbers[0]\n",
    "for i in range(len(numbers)):\n",
    "    for j in range(i + 1, len(numbers)):\n",
    "        if numbers[j] - numbers[i] < mini_dif:\n",
    "            mini_dif = numbers[j] - numbers[i]\n",
    "\n",
    "print(mini_dif)\n",
    "l = []\n",
    "for i in range(len(numbers)):\n",
    "    for j in range(i + 1, len(numbers)):\n",
    "        if numbers[j] - numbers[i] == mini_dif:\n",
    "            l.append((numbers[i], numbers[j]))\n",
    "\n",
    "print(min(l))\n",
    "print(numbers2.index(min(l)[0]))\n",
    "print(numbers2.index(min(l)[1]))"
   ],
   "metadata": {
    "collapsed": false,
    "pycharm": {
     "name": "#%%\n"
    }
   }
  },
  {
   "cell_type": "code",
   "execution_count": 47,
   "outputs": [
    {
     "name": "stdout",
     "output_type": "stream",
     "text": [
      "45123\n"
     ]
    }
   ],
   "source": [
    "n = 12345\n",
    "shift = int(input())\n",
    "n = str(n)\n",
    "print(n[shift:] + n[:shift])"
   ],
   "metadata": {
    "collapsed": false,
    "pycharm": {
     "name": "#%%\n"
    }
   }
  },
  {
   "cell_type": "code",
   "execution_count": 2,
   "outputs": [
    {
     "name": "stdout",
     "output_type": "stream",
     "text": [
      "{'p': 0, 'o': 1, 'l': 2, 'i': 3, 'k': 4, 'u': 5, 'j': 6, 'm': 7, 'n': 8, 'h': 9, 'y': 10, 't': 11, 'g': 12, 'b': 13, 'v': 14, 'f': 15, 'r': 16, 'e': 17, 'd': 18, 'c': 19, 'x': 20, 's': 21, 'w': 22, 'q': 23, 'a': 24, 'z': 25}\n"
     ]
    }
   ],
   "source": [
    "lex = str(input())\n",
    "lex_l = list(lex)\n",
    "letters = dict()\n",
    "for i in range(len(lex_l)):\n",
    "    letters[lex_l[i]] = i\n",
    "print(letters)"
   ],
   "metadata": {
    "collapsed": false,
    "pycharm": {
     "name": "#%%\n"
    }
   }
  },
  {
   "cell_type": "code",
   "execution_count": 3,
   "outputs": [
    {
     "name": "stdout",
     "output_type": "stream",
     "text": [
      "s\n",
      "t\n",
      "r\n",
      "i\n",
      "n\n",
      "g\n"
     ]
    }
   ],
   "source": [
    "alphabets = \"string\"\n",
    "for a in alphabets:\n",
    "    print(a)"
   ],
   "metadata": {
    "collapsed": false,
    "pycharm": {
     "name": "#%%\n"
    }
   }
  },
  {
   "cell_type": "code",
   "execution_count": 9,
   "outputs": [
    {
     "name": "stdout",
     "output_type": "stream",
     "text": [
      "[(2, 'dc'), (3, 'ab'), (4, 'lv')]\n",
      "2\n",
      "3\n",
      "4\n"
     ]
    }
   ],
   "source": [
    "dc = {\"dc\": 2, \"ab\": 3, \"lv\":4}\n",
    "ls = []\n",
    "for x, y in dc.items():\n",
    "    ls.append((y, x))\n",
    "print(ls)\n",
    "for x, y in ls:\n",
    "    print(x)"
   ],
   "metadata": {
    "collapsed": false,
    "pycharm": {
     "name": "#%%\n"
    }
   }
  },
  {
   "cell_type": "code",
   "execution_count": null,
   "outputs": [],
   "source": [],
   "metadata": {
    "collapsed": false,
    "pycharm": {
     "name": "#%%\n"
    }
   }
  }
 ],
 "metadata": {
  "kernelspec": {
   "display_name": "Python 3 (ipykernel)",
   "language": "python",
   "name": "python3"
  },
  "language_info": {
   "codemirror_mode": {
    "name": "ipython",
    "version": 3
   },
   "file_extension": ".py",
   "mimetype": "text/x-python",
   "name": "python",
   "nbconvert_exporter": "python",
   "pygments_lexer": "ipython3",
   "version": "3.8.9"
  }
 },
 "nbformat": 4,
 "nbformat_minor": 1
}